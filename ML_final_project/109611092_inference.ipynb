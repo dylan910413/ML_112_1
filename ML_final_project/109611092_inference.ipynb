{
  "cells": [
    {
      "cell_type": "code",
      "execution_count": 2,
      "metadata": {
        "colab": {
          "base_uri": "https://localhost:8080/"
        },
        "id": "Izd1ef8xpII0",
        "outputId": "694c5cc5-7bc8-4f51-dec5-61b318728c96"
      },
      "outputs": [
        {
          "name": "stdout",
          "output_type": "stream",
          "text": [
            "Collecting Keras-Preprocessing\n",
            "  Downloading Keras_Preprocessing-1.1.2-py2.py3-none-any.whl (42 kB)\n",
            "\u001b[?25l     \u001b[90m━━━━━━━━━━━━━━━━━━━━━━━━━━━━━━━━━━━━━━━━\u001b[0m \u001b[32m0.0/42.6 kB\u001b[0m \u001b[31m?\u001b[0m eta \u001b[36m-:--:--\u001b[0m\r\u001b[2K     \u001b[90m━━━━━━━━━━━━━━━━━━━━━━━━━━━━━━━━━━━━━━━━\u001b[0m \u001b[32m42.6/42.6 kB\u001b[0m \u001b[31m1.9 MB/s\u001b[0m eta \u001b[36m0:00:00\u001b[0m\n",
            "\u001b[?25hRequirement already satisfied: numpy>=1.9.1 in /usr/local/lib/python3.10/dist-packages (from Keras-Preprocessing) (1.23.5)\n",
            "Requirement already satisfied: six>=1.9.0 in /usr/local/lib/python3.10/dist-packages (from Keras-Preprocessing) (1.16.0)\n",
            "Installing collected packages: Keras-Preprocessing\n",
            "Successfully installed Keras-Preprocessing-1.1.2\n"
          ]
        }
      ],
      "source": [
        "!pip install Keras-Preprocessing\n",
        "!pip install tensorflow\n",
        "!pip install efficientnet\n",
        "!pip install matplotlib seaborn\n",
        "!pip install scikit-learn"
      ]
    },
    {
      "cell_type": "code",
      "execution_count": 1,
      "metadata": {
        "colab": {
          "base_uri": "https://localhost:8080/",
          "height": 393
        },
        "id": "vU8kgKcDYux7",
        "outputId": "a50e9020-06e8-441a-f8b7-084861c7b785"
      },
      "outputs": [
        {
          "ename": "MessageError",
          "evalue": "Error: credential propagation was unsuccessful",
          "output_type": "error",
          "traceback": [
            "\u001b[0;31m---------------------------------------------------------------------------\u001b[0m",
            "\u001b[0;31mMessageError\u001b[0m                              Traceback (most recent call last)",
            "\u001b[0;32m<ipython-input-1-b18288ed4455>\u001b[0m in \u001b[0;36m<cell line: 3>\u001b[0;34m()\u001b[0m\n\u001b[1;32m      1\u001b[0m \u001b[0;31m#need to get the data first\u001b[0m\u001b[0;34m\u001b[0m\u001b[0;34m\u001b[0m\u001b[0m\n\u001b[1;32m      2\u001b[0m \u001b[0;32mfrom\u001b[0m \u001b[0mgoogle\u001b[0m\u001b[0;34m.\u001b[0m\u001b[0mcolab\u001b[0m \u001b[0;32mimport\u001b[0m \u001b[0mdrive\u001b[0m\u001b[0;34m\u001b[0m\u001b[0;34m\u001b[0m\u001b[0m\n\u001b[0;32m----> 3\u001b[0;31m \u001b[0mdrive\u001b[0m\u001b[0;34m.\u001b[0m\u001b[0mmount\u001b[0m\u001b[0;34m(\u001b[0m\u001b[0;34m'/content/drive'\u001b[0m\u001b[0;34m)\u001b[0m\u001b[0;34m\u001b[0m\u001b[0;34m\u001b[0m\u001b[0m\n\u001b[0m\u001b[1;32m      4\u001b[0m \u001b[0;34m\u001b[0m\u001b[0m\n\u001b[1;32m      5\u001b[0m \u001b[0;31m#place the nycu2023mlfinalproject dataset folder at \"/content/drive/MyDrive/nycu2023mlfinalproject\"\u001b[0m\u001b[0;34m\u001b[0m\u001b[0;34m\u001b[0m\u001b[0m\n",
            "\u001b[0;32m/usr/local/lib/python3.10/dist-packages/google/colab/drive.py\u001b[0m in \u001b[0;36mmount\u001b[0;34m(mountpoint, force_remount, timeout_ms, readonly)\u001b[0m\n\u001b[1;32m     98\u001b[0m \u001b[0;32mdef\u001b[0m \u001b[0mmount\u001b[0m\u001b[0;34m(\u001b[0m\u001b[0mmountpoint\u001b[0m\u001b[0;34m,\u001b[0m \u001b[0mforce_remount\u001b[0m\u001b[0;34m=\u001b[0m\u001b[0;32mFalse\u001b[0m\u001b[0;34m,\u001b[0m \u001b[0mtimeout_ms\u001b[0m\u001b[0;34m=\u001b[0m\u001b[0;36m120000\u001b[0m\u001b[0;34m,\u001b[0m \u001b[0mreadonly\u001b[0m\u001b[0;34m=\u001b[0m\u001b[0;32mFalse\u001b[0m\u001b[0;34m)\u001b[0m\u001b[0;34m:\u001b[0m\u001b[0;34m\u001b[0m\u001b[0;34m\u001b[0m\u001b[0m\n\u001b[1;32m     99\u001b[0m   \u001b[0;34m\"\"\"Mount your Google Drive at the specified mountpoint path.\"\"\"\u001b[0m\u001b[0;34m\u001b[0m\u001b[0;34m\u001b[0m\u001b[0m\n\u001b[0;32m--> 100\u001b[0;31m   return _mount(\n\u001b[0m\u001b[1;32m    101\u001b[0m       \u001b[0mmountpoint\u001b[0m\u001b[0;34m,\u001b[0m\u001b[0;34m\u001b[0m\u001b[0;34m\u001b[0m\u001b[0m\n\u001b[1;32m    102\u001b[0m       \u001b[0mforce_remount\u001b[0m\u001b[0;34m=\u001b[0m\u001b[0mforce_remount\u001b[0m\u001b[0;34m,\u001b[0m\u001b[0;34m\u001b[0m\u001b[0;34m\u001b[0m\u001b[0m\n",
            "\u001b[0;32m/usr/local/lib/python3.10/dist-packages/google/colab/drive.py\u001b[0m in \u001b[0;36m_mount\u001b[0;34m(mountpoint, force_remount, timeout_ms, ephemeral, readonly)\u001b[0m\n\u001b[1;32m    127\u001b[0m   )\n\u001b[1;32m    128\u001b[0m   \u001b[0;32mif\u001b[0m \u001b[0mephemeral\u001b[0m\u001b[0;34m:\u001b[0m\u001b[0;34m\u001b[0m\u001b[0;34m\u001b[0m\u001b[0m\n\u001b[0;32m--> 129\u001b[0;31m     _message.blocking_request(\n\u001b[0m\u001b[1;32m    130\u001b[0m         \u001b[0;34m'request_auth'\u001b[0m\u001b[0;34m,\u001b[0m \u001b[0mrequest\u001b[0m\u001b[0;34m=\u001b[0m\u001b[0;34m{\u001b[0m\u001b[0;34m'authType'\u001b[0m\u001b[0;34m:\u001b[0m \u001b[0;34m'dfs_ephemeral'\u001b[0m\u001b[0;34m}\u001b[0m\u001b[0;34m,\u001b[0m \u001b[0mtimeout_sec\u001b[0m\u001b[0;34m=\u001b[0m\u001b[0;32mNone\u001b[0m\u001b[0;34m\u001b[0m\u001b[0;34m\u001b[0m\u001b[0m\n\u001b[1;32m    131\u001b[0m     )\n",
            "\u001b[0;32m/usr/local/lib/python3.10/dist-packages/google/colab/_message.py\u001b[0m in \u001b[0;36mblocking_request\u001b[0;34m(request_type, request, timeout_sec, parent)\u001b[0m\n\u001b[1;32m    174\u001b[0m       \u001b[0mrequest_type\u001b[0m\u001b[0;34m,\u001b[0m \u001b[0mrequest\u001b[0m\u001b[0;34m,\u001b[0m \u001b[0mparent\u001b[0m\u001b[0;34m=\u001b[0m\u001b[0mparent\u001b[0m\u001b[0;34m,\u001b[0m \u001b[0mexpect_reply\u001b[0m\u001b[0;34m=\u001b[0m\u001b[0;32mTrue\u001b[0m\u001b[0;34m\u001b[0m\u001b[0;34m\u001b[0m\u001b[0m\n\u001b[1;32m    175\u001b[0m   )\n\u001b[0;32m--> 176\u001b[0;31m   \u001b[0;32mreturn\u001b[0m \u001b[0mread_reply_from_input\u001b[0m\u001b[0;34m(\u001b[0m\u001b[0mrequest_id\u001b[0m\u001b[0;34m,\u001b[0m \u001b[0mtimeout_sec\u001b[0m\u001b[0;34m)\u001b[0m\u001b[0;34m\u001b[0m\u001b[0;34m\u001b[0m\u001b[0m\n\u001b[0m",
            "\u001b[0;32m/usr/local/lib/python3.10/dist-packages/google/colab/_message.py\u001b[0m in \u001b[0;36mread_reply_from_input\u001b[0;34m(message_id, timeout_sec)\u001b[0m\n\u001b[1;32m    101\u001b[0m     ):\n\u001b[1;32m    102\u001b[0m       \u001b[0;32mif\u001b[0m \u001b[0;34m'error'\u001b[0m \u001b[0;32min\u001b[0m \u001b[0mreply\u001b[0m\u001b[0;34m:\u001b[0m\u001b[0;34m\u001b[0m\u001b[0;34m\u001b[0m\u001b[0m\n\u001b[0;32m--> 103\u001b[0;31m         \u001b[0;32mraise\u001b[0m \u001b[0mMessageError\u001b[0m\u001b[0;34m(\u001b[0m\u001b[0mreply\u001b[0m\u001b[0;34m[\u001b[0m\u001b[0;34m'error'\u001b[0m\u001b[0;34m]\u001b[0m\u001b[0;34m)\u001b[0m\u001b[0;34m\u001b[0m\u001b[0;34m\u001b[0m\u001b[0m\n\u001b[0m\u001b[1;32m    104\u001b[0m       \u001b[0;32mreturn\u001b[0m \u001b[0mreply\u001b[0m\u001b[0;34m.\u001b[0m\u001b[0mget\u001b[0m\u001b[0;34m(\u001b[0m\u001b[0;34m'data'\u001b[0m\u001b[0;34m,\u001b[0m \u001b[0;32mNone\u001b[0m\u001b[0;34m)\u001b[0m\u001b[0;34m\u001b[0m\u001b[0;34m\u001b[0m\u001b[0m\n\u001b[1;32m    105\u001b[0m \u001b[0;34m\u001b[0m\u001b[0m\n",
            "\u001b[0;31mMessageError\u001b[0m: Error: credential propagation was unsuccessful"
          ]
        }
      ],
      "source": [
        "#need to get the data first\n",
        "#data at https://drive.google.com/drive/folders/11d-cnnm0A6_t4bHq7dc4FChSMx8r0qBM?usp=sharing use the link to copy files into drive to access\n",
        "from google.colab import drive\n",
        "drive.mount('/content/drive')\n",
        "\n",
        "#place the nycu2023mlfinalproject dataset folder at \"/content/drive/MyDrive/nycu2023mlfinalproject\""
      ]
    },
    {
      "cell_type": "code",
      "execution_count": 4,
      "metadata": {
        "id": "wZKzjyaWoezZ"
      },
      "outputs": [],
      "source": [
        "# Import Data Science Libraries\n",
        "import numpy as np\n",
        "import pandas as pd\n",
        "import matplotlib.pyplot as plt\n",
        "# System libraries\n",
        "from pathlib import Path\n",
        "import os.path\n",
        "import random\n",
        "import os\n",
        "import csv"
      ]
    },
    {
      "cell_type": "code",
      "execution_count": 80,
      "metadata": {
        "id": "GWXsbHWto3ex"
      },
      "outputs": [],
      "source": [
        "# Tensorflow Libraries\n",
        "import tensorflow as tf\n",
        "from tensorflow import keras\n",
        "from tensorflow.keras import layers,models\n",
        "from keras_preprocessing.image import ImageDataGenerator\n",
        "from keras.layers import Dense, Dropout\n",
        "from tensorflow.keras.callbacks import Callback, EarlyStopping,ModelCheckpoint, ReduceLROnPlateau\n",
        "from tensorflow.keras.optimizers import Adam\n",
        "from tensorflow.keras.applications import MobileNetV2\n",
        "from tensorflow.keras import Model\n",
        "from tensorflow.keras.layers.experimental import preprocessing\n",
        "from tensorflow.keras.layers import GlobalAveragePooling2D\n",
        "from tensorflow.keras.layers import BatchNormalization\n",
        "from tensorflow.keras.optimizers import RMSprop\n",
        "from tensorflow.keras.regularizers import l2\n",
        "from keras.preprocessing import image\n",
        "from keras.models import load_model\n",
        "from sklearn.model_selection import train_test_split\n",
        "from sklearn.metrics import f1_score"
      ]
    },
    {
      "cell_type": "code",
      "execution_count": 6,
      "metadata": {
        "id": "T6v7cJOkppGE"
      },
      "outputs": [],
      "source": [
        "# Visualization Libraries\n",
        "import matplotlib.cm as cm\n",
        "import cv2\n",
        "import seaborn as sns\n",
        "\n",
        "sns.set_style('darkgrid')\n",
        "\n",
        "# Metrics\n",
        "from sklearn.metrics import classification_report, confusion_matrix\n",
        "import itertools"
      ]
    },
    {
      "cell_type": "code",
      "execution_count": 7,
      "metadata": {
        "colab": {
          "base_uri": "https://localhost:8080/"
        },
        "id": "p_hHDKE-pujs",
        "outputId": "045dbef7-ac6c-4dea-b4f0-f23c2bf9af0e"
      },
      "outputs": [
        {
          "name": "stdout",
          "output_type": "stream",
          "text": [
            "--2024-01-05 02:45:45--  https://raw.githubusercontent.com/mrdbourke/tensorflow-deep-learning/main/extras/helper_functions.py\n",
            "Resolving raw.githubusercontent.com (raw.githubusercontent.com)... 185.199.108.133, 185.199.109.133, 185.199.110.133, ...\n",
            "Connecting to raw.githubusercontent.com (raw.githubusercontent.com)|185.199.108.133|:443... connected.\n",
            "HTTP request sent, awaiting response... 200 OK\n",
            "Length: 10246 (10K) [text/plain]\n",
            "Saving to: ‘helper_functions.py’\n",
            "\n",
            "\rhelper_functions.py   0%[                    ]       0  --.-KB/s               \rhelper_functions.py 100%[===================>]  10.01K  --.-KB/s    in 0s      \n",
            "\n",
            "2024-01-05 02:45:46 (88.2 MB/s) - ‘helper_functions.py’ saved [10246/10246]\n",
            "\n"
          ]
        }
      ],
      "source": [
        "!wget https://raw.githubusercontent.com/mrdbourke/tensorflow-deep-learning/main/extras/helper_functions.py\n",
        "\n",
        "# Import series of helper functions for our notebook\n",
        "from helper_functions import create_tensorboard_callback, plot_loss_curves, unzip_data, compare_historys, walk_through_dir, pred_and_plot"
      ]
    },
    {
      "cell_type": "code",
      "execution_count": 8,
      "metadata": {
        "id": "2gYTb7hCpzkw"
      },
      "outputs": [],
      "source": [
        "BATCH_SIZE = 32\n",
        "TARGET_SIZE = (224, 224)"
      ]
    },
    {
      "cell_type": "code",
      "execution_count": 12,
      "metadata": {
        "colab": {
          "base_uri": "https://localhost:8080/"
        },
        "id": "SeTPdy4sgTQX",
        "outputId": "ffe83212-006a-4ce4-d6fc-4c8f5b8f5723"
      },
      "outputs": [
        {
          "name": "stdout",
          "output_type": "stream",
          "text": [
            "/content/drive/MyDrive/nycu2023mlfinalproject/data\n",
            "There are 2 directories and 1 images in '/content/drive/MyDrive/nycu2023mlfinalproject/data'.\n",
            "There are 0 directories and 2000 images in '/content/drive/MyDrive/nycu2023mlfinalproject/data/test'.\n",
            "There are 200 directories and 0 images in '/content/drive/MyDrive/nycu2023mlfinalproject/data/train'.\n",
            "There are 0 directories and 50 images in '/content/drive/MyDrive/nycu2023mlfinalproject/data/train/195.Carolina_Wren'.\n",
            "There are 0 directories and 50 images in '/content/drive/MyDrive/nycu2023mlfinalproject/data/train/200.Common_Yellowthroat'.\n",
            "There are 0 directories and 50 images in '/content/drive/MyDrive/nycu2023mlfinalproject/data/train/194.Cactus_Wren'.\n",
            "There are 0 directories and 49 images in '/content/drive/MyDrive/nycu2023mlfinalproject/data/train/196.House_Wren'.\n",
            "There are 0 directories and 50 images in '/content/drive/MyDrive/nycu2023mlfinalproject/data/train/192.Downy_Woodpecker'.\n",
            "There are 0 directories and 50 images in '/content/drive/MyDrive/nycu2023mlfinalproject/data/train/199.Winter_Wren'.\n",
            "There are 0 directories and 50 images in '/content/drive/MyDrive/nycu2023mlfinalproject/data/train/193.Bewick_Wren'.\n",
            "There are 0 directories and 50 images in '/content/drive/MyDrive/nycu2023mlfinalproject/data/train/197.Marsh_Wren'.\n",
            "There are 0 directories and 50 images in '/content/drive/MyDrive/nycu2023mlfinalproject/data/train/198.Rock_Wren'.\n",
            "There are 0 directories and 50 images in '/content/drive/MyDrive/nycu2023mlfinalproject/data/train/191.Red_headed_Woodpecker'.\n",
            "There are 0 directories and 50 images in '/content/drive/MyDrive/nycu2023mlfinalproject/data/train/182.Yellow_Warbler'.\n",
            "There are 0 directories and 50 images in '/content/drive/MyDrive/nycu2023mlfinalproject/data/train/183.Northern_Waterthrush'.\n",
            "There are 0 directories and 40 images in '/content/drive/MyDrive/nycu2023mlfinalproject/data/train/187.American_Three_toed_Woodpecker'.\n",
            "There are 0 directories and 50 images in '/content/drive/MyDrive/nycu2023mlfinalproject/data/train/185.Bohemian_Waxwing'.\n",
            "There are 0 directories and 50 images in '/content/drive/MyDrive/nycu2023mlfinalproject/data/train/189.Red_bellied_Woodpecker'.\n",
            "There are 0 directories and 50 images in '/content/drive/MyDrive/nycu2023mlfinalproject/data/train/186.Cedar_Waxwing'.\n",
            "There are 0 directories and 50 images in '/content/drive/MyDrive/nycu2023mlfinalproject/data/train/184.Louisiana_Waterthrush'.\n",
            "There are 0 directories and 48 images in '/content/drive/MyDrive/nycu2023mlfinalproject/data/train/190.Red_cockaded_Woodpecker'.\n",
            "There are 0 directories and 50 images in '/content/drive/MyDrive/nycu2023mlfinalproject/data/train/188.Pileated_Woodpecker'.\n",
            "There are 0 directories and 49 images in '/content/drive/MyDrive/nycu2023mlfinalproject/data/train/181.Worm_eating_Warbler'.\n",
            "There are 0 directories and 50 images in '/content/drive/MyDrive/nycu2023mlfinalproject/data/train/172.Nashville_Warbler'.\n",
            "There are 0 directories and 50 images in '/content/drive/MyDrive/nycu2023mlfinalproject/data/train/173.Orange_crowned_Warbler'.\n",
            "There are 0 directories and 50 images in '/content/drive/MyDrive/nycu2023mlfinalproject/data/train/176.Prairie_Warbler'.\n",
            "There are 0 directories and 46 images in '/content/drive/MyDrive/nycu2023mlfinalproject/data/train/178.Swainson_Warbler'.\n",
            "There are 0 directories and 49 images in '/content/drive/MyDrive/nycu2023mlfinalproject/data/train/179.Tennessee_Warbler'.\n",
            "There are 0 directories and 50 images in '/content/drive/MyDrive/nycu2023mlfinalproject/data/train/174.Palm_Warbler'.\n",
            "There are 0 directories and 50 images in '/content/drive/MyDrive/nycu2023mlfinalproject/data/train/177.Prothonotary_Warbler'.\n",
            "There are 0 directories and 50 images in '/content/drive/MyDrive/nycu2023mlfinalproject/data/train/175.Pine_Warbler'.\n",
            "There are 0 directories and 50 images in '/content/drive/MyDrive/nycu2023mlfinalproject/data/train/180.Wilson_Warbler'.\n",
            "There are 0 directories and 50 images in '/content/drive/MyDrive/nycu2023mlfinalproject/data/train/171.Myrtle_Warbler'.\n",
            "There are 0 directories and 50 images in '/content/drive/MyDrive/nycu2023mlfinalproject/data/train/162.Canada_Warbler'.\n",
            "There are 0 directories and 49 images in '/content/drive/MyDrive/nycu2023mlfinalproject/data/train/169.Magnolia_Warbler'.\n",
            "There are 0 directories and 49 images in '/content/drive/MyDrive/nycu2023mlfinalproject/data/train/166.Golden_winged_Warbler'.\n",
            "There are 0 directories and 50 images in '/content/drive/MyDrive/nycu2023mlfinalproject/data/train/163.Cape_May_Warbler'.\n",
            "There are 0 directories and 50 images in '/content/drive/MyDrive/nycu2023mlfinalproject/data/train/167.Hooded_Warbler'.\n",
            "There are 0 directories and 50 images in '/content/drive/MyDrive/nycu2023mlfinalproject/data/train/164.Cerulean_Warbler'.\n",
            "There are 0 directories and 50 images in '/content/drive/MyDrive/nycu2023mlfinalproject/data/train/165.Chestnut_sided_Warbler'.\n",
            "There are 0 directories and 50 images in '/content/drive/MyDrive/nycu2023mlfinalproject/data/train/170.Mourning_Warbler'.\n",
            "There are 0 directories and 49 images in '/content/drive/MyDrive/nycu2023mlfinalproject/data/train/168.Kentucky_Warbler'.\n",
            "There are 0 directories and 50 images in '/content/drive/MyDrive/nycu2023mlfinalproject/data/train/161.Blue_winged_Warbler'.\n",
            "There are 0 directories and 49 images in '/content/drive/MyDrive/nycu2023mlfinalproject/data/train/160.Black_throated_Blue_Warbler'.\n",
            "There are 0 directories and 49 images in '/content/drive/MyDrive/nycu2023mlfinalproject/data/train/157.Yellow_throated_Vireo'.\n",
            "There are 0 directories and 50 images in '/content/drive/MyDrive/nycu2023mlfinalproject/data/train/159.Black_and_white_Warbler'.\n",
            "There are 0 directories and 41 images in '/content/drive/MyDrive/nycu2023mlfinalproject/data/train/151.Black_capped_Vireo'.\n",
            "There are 0 directories and 50 images in '/content/drive/MyDrive/nycu2023mlfinalproject/data/train/152.Blue_headed_Vireo'.\n",
            "There are 0 directories and 49 images in '/content/drive/MyDrive/nycu2023mlfinalproject/data/train/153.Philadelphia_Vireo'.\n",
            "There are 0 directories and 50 images in '/content/drive/MyDrive/nycu2023mlfinalproject/data/train/155.Warbling_Vireo'.\n",
            "There are 0 directories and 50 images in '/content/drive/MyDrive/nycu2023mlfinalproject/data/train/154.Red_eyed_Vireo'.\n",
            "There are 0 directories and 50 images in '/content/drive/MyDrive/nycu2023mlfinalproject/data/train/156.White_eyed_Vireo'.\n",
            "There are 0 directories and 50 images in '/content/drive/MyDrive/nycu2023mlfinalproject/data/train/158.Bay_breasted_Warbler'.\n",
            "There are 0 directories and 50 images in '/content/drive/MyDrive/nycu2023mlfinalproject/data/train/150.Sage_Thrasher'.\n",
            "There are 0 directories and 50 images in '/content/drive/MyDrive/nycu2023mlfinalproject/data/train/147.Least_Tern'.\n",
            "There are 0 directories and 50 images in '/content/drive/MyDrive/nycu2023mlfinalproject/data/train/148.Green_tailed_Towhee'.\n",
            "There are 0 directories and 50 images in '/content/drive/MyDrive/nycu2023mlfinalproject/data/train/145.Elegant_Tern'.\n",
            "There are 0 directories and 50 images in '/content/drive/MyDrive/nycu2023mlfinalproject/data/train/143.Caspian_Tern'.\n",
            "There are 0 directories and 50 images in '/content/drive/MyDrive/nycu2023mlfinalproject/data/train/142.Black_Tern'.\n",
            "There are 0 directories and 50 images in '/content/drive/MyDrive/nycu2023mlfinalproject/data/train/144.Common_Tern'.\n",
            "There are 0 directories and 49 images in '/content/drive/MyDrive/nycu2023mlfinalproject/data/train/149.Brown_Thrasher'.\n",
            "There are 0 directories and 50 images in '/content/drive/MyDrive/nycu2023mlfinalproject/data/train/146.Forsters_Tern'.\n",
            "There are 0 directories and 48 images in '/content/drive/MyDrive/nycu2023mlfinalproject/data/train/141.Artic_Tern'.\n",
            "There are 0 directories and 50 images in '/content/drive/MyDrive/nycu2023mlfinalproject/data/train/140.Summer_Tanager'.\n",
            "There are 0 directories and 50 images in '/content/drive/MyDrive/nycu2023mlfinalproject/data/train/138.Tree_Swallow'.\n",
            "There are 0 directories and 50 images in '/content/drive/MyDrive/nycu2023mlfinalproject/data/train/131.Vesper_Sparrow'.\n",
            "There are 0 directories and 49 images in '/content/drive/MyDrive/nycu2023mlfinalproject/data/train/135.Bank_Swallow'.\n",
            "There are 0 directories and 50 images in '/content/drive/MyDrive/nycu2023mlfinalproject/data/train/137.Cliff_Swallow'.\n",
            "There are 0 directories and 50 images in '/content/drive/MyDrive/nycu2023mlfinalproject/data/train/133.White_throated_Sparrow'.\n",
            "There are 0 directories and 50 images in '/content/drive/MyDrive/nycu2023mlfinalproject/data/train/134.Cape_Glossy_Starling'.\n",
            "There are 0 directories and 50 images in '/content/drive/MyDrive/nycu2023mlfinalproject/data/train/132.White_crowned_Sparrow'.\n",
            "There are 0 directories and 50 images in '/content/drive/MyDrive/nycu2023mlfinalproject/data/train/139.Scarlet_Tanager'.\n",
            "There are 0 directories and 50 images in '/content/drive/MyDrive/nycu2023mlfinalproject/data/train/136.Barn_Swallow'.\n",
            "There are 0 directories and 50 images in '/content/drive/MyDrive/nycu2023mlfinalproject/data/train/130.Tree_Sparrow'.\n",
            "There are 0 directories and 50 images in '/content/drive/MyDrive/nycu2023mlfinalproject/data/train/120.Fox_Sparrow'.\n",
            "There are 0 directories and 49 images in '/content/drive/MyDrive/nycu2023mlfinalproject/data/train/126.Nelson_Sharp_tailed_Sparrow'.\n",
            "There are 0 directories and 49 images in '/content/drive/MyDrive/nycu2023mlfinalproject/data/train/125.Lincoln_Sparrow'.\n",
            "There are 0 directories and 50 images in '/content/drive/MyDrive/nycu2023mlfinalproject/data/train/127.Savannah_Sparrow'.\n",
            "There are 0 directories and 50 images in '/content/drive/MyDrive/nycu2023mlfinalproject/data/train/128.Seaside_Sparrow'.\n",
            "There are 0 directories and 49 images in '/content/drive/MyDrive/nycu2023mlfinalproject/data/train/124.Le_Conte_Sparrow'.\n",
            "There are 0 directories and 50 images in '/content/drive/MyDrive/nycu2023mlfinalproject/data/train/129.Song_Sparrow'.\n",
            "There are 0 directories and 50 images in '/content/drive/MyDrive/nycu2023mlfinalproject/data/train/121.Grasshopper_Sparrow'.\n",
            "There are 0 directories and 50 images in '/content/drive/MyDrive/nycu2023mlfinalproject/data/train/123.Henslow_Sparrow'.\n",
            "There are 0 directories and 50 images in '/content/drive/MyDrive/nycu2023mlfinalproject/data/train/122.Harris_Sparrow'.\n",
            "There are 0 directories and 49 images in '/content/drive/MyDrive/nycu2023mlfinalproject/data/train/119.Field_Sparrow'.\n",
            "There are 0 directories and 50 images in '/content/drive/MyDrive/nycu2023mlfinalproject/data/train/118.House_Sparrow'.\n",
            "There are 0 directories and 49 images in '/content/drive/MyDrive/nycu2023mlfinalproject/data/train/117.Clay_colored_Sparrow'.\n",
            "There are 0 directories and 50 images in '/content/drive/MyDrive/nycu2023mlfinalproject/data/train/110.Geococcyx'.\n",
            "There are 0 directories and 50 images in '/content/drive/MyDrive/nycu2023mlfinalproject/data/train/112.Great_Grey_Shrike'.\n",
            "There are 0 directories and 50 images in '/content/drive/MyDrive/nycu2023mlfinalproject/data/train/114.Black_throated_Sparrow'.\n",
            "There are 0 directories and 50 images in '/content/drive/MyDrive/nycu2023mlfinalproject/data/train/111.Loggerhead_Shrike'.\n",
            "There are 0 directories and 49 images in '/content/drive/MyDrive/nycu2023mlfinalproject/data/train/115.Brewer_Sparrow'.\n",
            "There are 0 directories and 50 images in '/content/drive/MyDrive/nycu2023mlfinalproject/data/train/109.American_Redstart'.\n",
            "There are 0 directories and 50 images in '/content/drive/MyDrive/nycu2023mlfinalproject/data/train/116.Chipping_Sparrow'.\n",
            "There are 0 directories and 40 images in '/content/drive/MyDrive/nycu2023mlfinalproject/data/train/113.Baird_Sparrow'.\n",
            "There are 0 directories and 50 images in '/content/drive/MyDrive/nycu2023mlfinalproject/data/train/108.White_necked_Raven'.\n",
            "There are 0 directories and 49 images in '/content/drive/MyDrive/nycu2023mlfinalproject/data/train/107.Common_Raven'.\n",
            "There are 0 directories and 50 images in '/content/drive/MyDrive/nycu2023mlfinalproject/data/train/106.Horned_Puffin'.\n",
            "There are 0 directories and 50 images in '/content/drive/MyDrive/nycu2023mlfinalproject/data/train/096.Hooded_Oriole'.\n",
            "There are 0 directories and 40 images in '/content/drive/MyDrive/nycu2023mlfinalproject/data/train/101.White_Pelican'.\n",
            "There are 0 directories and 50 images in '/content/drive/MyDrive/nycu2023mlfinalproject/data/train/102.Western_Wood_Pewee'.\n",
            "There are 0 directories and 49 images in '/content/drive/MyDrive/nycu2023mlfinalproject/data/train/097.Orchard_Oriole'.\n",
            "There are 0 directories and 50 images in '/content/drive/MyDrive/nycu2023mlfinalproject/data/train/100.Brown_Pelican'.\n",
            "There are 0 directories and 39 images in '/content/drive/MyDrive/nycu2023mlfinalproject/data/train/105.Whip_poor_Will'.\n",
            "There are 0 directories and 50 images in '/content/drive/MyDrive/nycu2023mlfinalproject/data/train/104.American_Pipit'.\n",
            "There are 0 directories and 50 images in '/content/drive/MyDrive/nycu2023mlfinalproject/data/train/099.Ovenbird'.\n",
            "There are 0 directories and 50 images in '/content/drive/MyDrive/nycu2023mlfinalproject/data/train/103.Sayornis'.\n",
            "There are 0 directories and 50 images in '/content/drive/MyDrive/nycu2023mlfinalproject/data/train/098.Scott_Oriole'.\n",
            "There are 0 directories and 50 images in '/content/drive/MyDrive/nycu2023mlfinalproject/data/train/095.Baltimore_Oriole'.\n",
            "There are 0 directories and 50 images in '/content/drive/MyDrive/nycu2023mlfinalproject/data/train/094.White_breasted_Nuthatch'.\n",
            "There are 0 directories and 50 images in '/content/drive/MyDrive/nycu2023mlfinalproject/data/train/093.Clark_Nutcracker'.\n",
            "There are 0 directories and 50 images in '/content/drive/MyDrive/nycu2023mlfinalproject/data/train/085.Horned_Lark'.\n",
            "There are 0 directories and 50 images in '/content/drive/MyDrive/nycu2023mlfinalproject/data/train/092.Nighthawk'.\n",
            "There are 0 directories and 50 images in '/content/drive/MyDrive/nycu2023mlfinalproject/data/train/088.Western_Meadowlark'.\n",
            "There are 0 directories and 50 images in '/content/drive/MyDrive/nycu2023mlfinalproject/data/train/091.Mockingbird'.\n",
            "There are 0 directories and 50 images in '/content/drive/MyDrive/nycu2023mlfinalproject/data/train/086.Pacific_Loon'.\n",
            "There are 0 directories and 50 images in '/content/drive/MyDrive/nycu2023mlfinalproject/data/train/090.Red_breasted_Merganser'.\n",
            "There are 0 directories and 50 images in '/content/drive/MyDrive/nycu2023mlfinalproject/data/train/087.Mallard'.\n",
            "There are 0 directories and 50 images in '/content/drive/MyDrive/nycu2023mlfinalproject/data/train/089.Hooded_Merganser'.\n",
            "There are 0 directories and 43 images in '/content/drive/MyDrive/nycu2023mlfinalproject/data/train/084.Red_legged_Kittiwake'.\n",
            "There are 0 directories and 47 images in '/content/drive/MyDrive/nycu2023mlfinalproject/data/train/075.Green_Jay'.\n",
            "There are 0 directories and 50 images in '/content/drive/MyDrive/nycu2023mlfinalproject/data/train/083.White_breasted_Kingfisher'.\n",
            "There are 0 directories and 49 images in '/content/drive/MyDrive/nycu2023mlfinalproject/data/train/078.Gray_Kingbird'.\n",
            "There are 0 directories and 50 images in '/content/drive/MyDrive/nycu2023mlfinalproject/data/train/079.Belted_Kingfisher'.\n",
            "There are 0 directories and 50 images in '/content/drive/MyDrive/nycu2023mlfinalproject/data/train/076.Dark_eyed_Junco'.\n",
            "There are 0 directories and 50 images in '/content/drive/MyDrive/nycu2023mlfinalproject/data/train/077.Tropical_Kingbird'.\n",
            "There are 0 directories and 50 images in '/content/drive/MyDrive/nycu2023mlfinalproject/data/train/081.Pied_Kingfisher'.\n",
            "There are 0 directories and 50 images in '/content/drive/MyDrive/nycu2023mlfinalproject/data/train/082.Ringed_Kingfisher'.\n",
            "There are 0 directories and 50 images in '/content/drive/MyDrive/nycu2023mlfinalproject/data/train/080.Green_Kingfisher'.\n",
            "There are 0 directories and 50 images in '/content/drive/MyDrive/nycu2023mlfinalproject/data/train/074.Florida_Jay'.\n",
            "There are 0 directories and 50 images in '/content/drive/MyDrive/nycu2023mlfinalproject/data/train/069.Rufous_Hummingbird'.\n",
            "There are 0 directories and 50 images in '/content/drive/MyDrive/nycu2023mlfinalproject/data/train/068.Ruby_throated_Hummingbird'.\n",
            "There are 0 directories and 50 images in '/content/drive/MyDrive/nycu2023mlfinalproject/data/train/066.Western_Gull'.\n",
            "There are 0 directories and 50 images in '/content/drive/MyDrive/nycu2023mlfinalproject/data/train/072.Pomarine_Jaeger'.\n",
            "There are 0 directories and 50 images in '/content/drive/MyDrive/nycu2023mlfinalproject/data/train/071.Long_tailed_Jaeger'.\n",
            "There are 0 directories and 50 images in '/content/drive/MyDrive/nycu2023mlfinalproject/data/train/073.Blue_Jay'.\n",
            "There are 0 directories and 40 images in '/content/drive/MyDrive/nycu2023mlfinalproject/data/train/065.Slaty_backed_Gull'.\n",
            "There are 0 directories and 50 images in '/content/drive/MyDrive/nycu2023mlfinalproject/data/train/067.Anna_Hummingbird'.\n",
            "There are 0 directories and 50 images in '/content/drive/MyDrive/nycu2023mlfinalproject/data/train/070.Green_Violetear'.\n",
            "There are 0 directories and 50 images in '/content/drive/MyDrive/nycu2023mlfinalproject/data/train/064.Ring_billed_Gull'.\n",
            "There are 0 directories and 50 images in '/content/drive/MyDrive/nycu2023mlfinalproject/data/train/057.Rose_breasted_Grosbeak'.\n",
            "There are 0 directories and 49 images in '/content/drive/MyDrive/nycu2023mlfinalproject/data/train/060.Glaucous_winged_Gull'.\n",
            "There are 0 directories and 50 images in '/content/drive/MyDrive/nycu2023mlfinalproject/data/train/056.Pine_Grosbeak'.\n",
            "There are 0 directories and 50 images in '/content/drive/MyDrive/nycu2023mlfinalproject/data/train/061.Heermann_Gull'.\n",
            "There are 0 directories and 50 images in '/content/drive/MyDrive/nycu2023mlfinalproject/data/train/063.Ivory_Gull'.\n",
            "There are 0 directories and 50 images in '/content/drive/MyDrive/nycu2023mlfinalproject/data/train/059.California_Gull'.\n",
            "There are 0 directories and 48 images in '/content/drive/MyDrive/nycu2023mlfinalproject/data/train/058.Pigeon_Guillemot'.\n",
            "There are 0 directories and 50 images in '/content/drive/MyDrive/nycu2023mlfinalproject/data/train/055.Evening_Grosbeak'.\n",
            "There are 0 directories and 50 images in '/content/drive/MyDrive/nycu2023mlfinalproject/data/train/062.Herring_Gull'.\n",
            "There are 0 directories and 50 images in '/content/drive/MyDrive/nycu2023mlfinalproject/data/train/054.Blue_Grosbeak'.\n",
            "There are 0 directories and 50 images in '/content/drive/MyDrive/nycu2023mlfinalproject/data/train/053.Western_Grebe'.\n",
            "There are 0 directories and 50 images in '/content/drive/MyDrive/nycu2023mlfinalproject/data/train/048.European_Goldfinch'.\n",
            "There are 0 directories and 50 images in '/content/drive/MyDrive/nycu2023mlfinalproject/data/train/051.Horned_Grebe'.\n",
            "There are 0 directories and 50 images in '/content/drive/MyDrive/nycu2023mlfinalproject/data/train/050.Eared_Grebe'.\n",
            "There are 0 directories and 50 images in '/content/drive/MyDrive/nycu2023mlfinalproject/data/train/047.American_Goldfinch'.\n",
            "There are 0 directories and 50 images in '/content/drive/MyDrive/nycu2023mlfinalproject/data/train/044.Frigatebird'.\n",
            "There are 0 directories and 50 images in '/content/drive/MyDrive/nycu2023mlfinalproject/data/train/045.Northern_Fulmar'.\n",
            "There are 0 directories and 50 images in '/content/drive/MyDrive/nycu2023mlfinalproject/data/train/052.Pied_billed_Grebe'.\n",
            "There are 0 directories and 50 images in '/content/drive/MyDrive/nycu2023mlfinalproject/data/train/049.Boat_tailed_Grackle'.\n",
            "There are 0 directories and 50 images in '/content/drive/MyDrive/nycu2023mlfinalproject/data/train/046.Gadwall'.\n",
            "There are 0 directories and 49 images in '/content/drive/MyDrive/nycu2023mlfinalproject/data/train/043.Yellow_bellied_Flycatcher'.\n",
            "There are 0 directories and 50 images in '/content/drive/MyDrive/nycu2023mlfinalproject/data/train/042.Vermilion_Flycatcher'.\n",
            "There are 0 directories and 50 images in '/content/drive/MyDrive/nycu2023mlfinalproject/data/train/035.Purple_Finch'.\n",
            "There are 0 directories and 50 images in '/content/drive/MyDrive/nycu2023mlfinalproject/data/train/040.Olive_sided_Flycatcher'.\n",
            "There are 0 directories and 49 images in '/content/drive/MyDrive/nycu2023mlfinalproject/data/train/037.Acadian_Flycatcher'.\n",
            "There are 0 directories and 50 images in '/content/drive/MyDrive/nycu2023mlfinalproject/data/train/038.Great_Crested_Flycatcher'.\n",
            "There are 0 directories and 49 images in '/content/drive/MyDrive/nycu2023mlfinalproject/data/train/033.Yellow_billed_Cuckoo'.\n",
            "There are 0 directories and 50 images in '/content/drive/MyDrive/nycu2023mlfinalproject/data/train/036.Northern_Flicker'.\n",
            "There are 0 directories and 49 images in '/content/drive/MyDrive/nycu2023mlfinalproject/data/train/039.Least_Flycatcher'.\n",
            "There are 0 directories and 50 images in '/content/drive/MyDrive/nycu2023mlfinalproject/data/train/041.Scissor_tailed_Flycatcher'.\n",
            "There are 0 directories and 49 images in '/content/drive/MyDrive/nycu2023mlfinalproject/data/train/034.Gray_crowned_Rosy_Finch'.\n",
            "There are 0 directories and 43 images in '/content/drive/MyDrive/nycu2023mlfinalproject/data/train/032.Mangrove_Cuckoo'.\n",
            "There are 0 directories and 50 images in '/content/drive/MyDrive/nycu2023mlfinalproject/data/train/025.Pelagic_Cormorant'.\n",
            "There are 0 directories and 50 images in '/content/drive/MyDrive/nycu2023mlfinalproject/data/train/031.Black_billed_Cuckoo'.\n",
            "There are 0 directories and 50 images in '/content/drive/MyDrive/nycu2023mlfinalproject/data/train/030.Fish_Crow'.\n",
            "There are 0 directories and 49 images in '/content/drive/MyDrive/nycu2023mlfinalproject/data/train/023.Brandt_Cormorant'.\n",
            "There are 0 directories and 50 images in '/content/drive/MyDrive/nycu2023mlfinalproject/data/train/027.Shiny_Cowbird'.\n",
            "There are 0 directories and 50 images in '/content/drive/MyDrive/nycu2023mlfinalproject/data/train/029.American_Crow'.\n",
            "There are 0 directories and 50 images in '/content/drive/MyDrive/nycu2023mlfinalproject/data/train/026.Bronzed_Cowbird'.\n",
            "There are 0 directories and 42 images in '/content/drive/MyDrive/nycu2023mlfinalproject/data/train/024.Red_faced_Cormorant'.\n",
            "There are 0 directories and 49 images in '/content/drive/MyDrive/nycu2023mlfinalproject/data/train/028.Brown_Creeper'.\n",
            "There are 0 directories and 46 images in '/content/drive/MyDrive/nycu2023mlfinalproject/data/train/022.Chuck_will_Widow'.\n",
            "There are 0 directories and 50 images in '/content/drive/MyDrive/nycu2023mlfinalproject/data/train/021.Eastern_Towhee'.\n",
            "There are 0 directories and 49 images in '/content/drive/MyDrive/nycu2023mlfinalproject/data/train/020.Yellow_breasted_Chat'.\n",
            "There are 0 directories and 47 images in '/content/drive/MyDrive/nycu2023mlfinalproject/data/train/017.Cardinal'.\n",
            "There are 0 directories and 48 images in '/content/drive/MyDrive/nycu2023mlfinalproject/data/train/015.Lazuli_Bunting'.\n",
            "There are 0 directories and 50 images in '/content/drive/MyDrive/nycu2023mlfinalproject/data/train/014.Indigo_Bunting'.\n",
            "There are 0 directories and 50 images in '/content/drive/MyDrive/nycu2023mlfinalproject/data/train/011.Rusty_Blackbird'.\n",
            "There are 0 directories and 50 images in '/content/drive/MyDrive/nycu2023mlfinalproject/data/train/013.Bobolink'.\n",
            "There are 0 directories and 49 images in '/content/drive/MyDrive/nycu2023mlfinalproject/data/train/019.Gray_Catbird'.\n",
            "There are 0 directories and 48 images in '/content/drive/MyDrive/nycu2023mlfinalproject/data/train/016.Painted_Bunting'.\n",
            "There are 0 directories and 35 images in '/content/drive/MyDrive/nycu2023mlfinalproject/data/train/018.Spotted_Catbird'.\n",
            "There are 0 directories and 46 images in '/content/drive/MyDrive/nycu2023mlfinalproject/data/train/012.Yellow_headed_Blackbird'.\n",
            "There are 0 directories and 50 images in '/content/drive/MyDrive/nycu2023mlfinalproject/data/train/010.Red_winged_Blackbird'.\n",
            "There are 0 directories and 49 images in '/content/drive/MyDrive/nycu2023mlfinalproject/data/train/009.Brewer_Blackbird'.\n",
            "There are 0 directories and 38 images in '/content/drive/MyDrive/nycu2023mlfinalproject/data/train/008.Rhinoceros_Auklet'.\n",
            "There are 0 directories and 50 images in '/content/drive/MyDrive/nycu2023mlfinalproject/data/train/002.Laysan_Albatross'.\n",
            "There are 0 directories and 50 images in '/content/drive/MyDrive/nycu2023mlfinalproject/data/train/001.Black_footed_Albatross'.\n",
            "There are 0 directories and 48 images in '/content/drive/MyDrive/nycu2023mlfinalproject/data/train/003.Sooty_Albatross'.\n",
            "There are 0 directories and 34 images in '/content/drive/MyDrive/nycu2023mlfinalproject/data/train/005.Crested_Auklet'.\n",
            "There are 0 directories and 50 images in '/content/drive/MyDrive/nycu2023mlfinalproject/data/train/004.Groove_billed_Ani'.\n",
            "There are 0 directories and 31 images in '/content/drive/MyDrive/nycu2023mlfinalproject/data/train/006.Least_Auklet'.\n",
            "There are 0 directories and 43 images in '/content/drive/MyDrive/nycu2023mlfinalproject/data/train/007.Parakeet_Auklet'.\n"
          ]
        }
      ],
      "source": [
        "data = \"/content/drive/MyDrive/nycu2023mlfinalproject/data\"\n",
        "os.chdir(data)\n",
        "\n",
        "data_directory = os.getcwd()\n",
        "print(data_directory)\n",
        "walk_through_dir(data_directory);"
      ]
    },
    {
      "cell_type": "code",
      "execution_count": 13,
      "metadata": {
        "colab": {
          "base_uri": "https://localhost:8080/"
        },
        "id": "gnnFYIz_qDhW",
        "outputId": "6531bc73-3ead-4cc4-ef35-44997342f62d"
      },
      "outputs": [
        {
          "name": "stdout",
          "output_type": "stream",
          "text": [
            "There are 200 directories and 0 images in './train'.\n",
            "There are 0 directories and 50 images in './train/195.Carolina_Wren'.\n",
            "There are 0 directories and 50 images in './train/200.Common_Yellowthroat'.\n",
            "There are 0 directories and 50 images in './train/194.Cactus_Wren'.\n",
            "There are 0 directories and 49 images in './train/196.House_Wren'.\n",
            "There are 0 directories and 50 images in './train/192.Downy_Woodpecker'.\n",
            "There are 0 directories and 50 images in './train/199.Winter_Wren'.\n",
            "There are 0 directories and 50 images in './train/193.Bewick_Wren'.\n",
            "There are 0 directories and 50 images in './train/197.Marsh_Wren'.\n",
            "There are 0 directories and 50 images in './train/198.Rock_Wren'.\n",
            "There are 0 directories and 50 images in './train/191.Red_headed_Woodpecker'.\n",
            "There are 0 directories and 50 images in './train/182.Yellow_Warbler'.\n",
            "There are 0 directories and 50 images in './train/183.Northern_Waterthrush'.\n",
            "There are 0 directories and 40 images in './train/187.American_Three_toed_Woodpecker'.\n",
            "There are 0 directories and 50 images in './train/185.Bohemian_Waxwing'.\n",
            "There are 0 directories and 50 images in './train/189.Red_bellied_Woodpecker'.\n",
            "There are 0 directories and 50 images in './train/186.Cedar_Waxwing'.\n",
            "There are 0 directories and 50 images in './train/184.Louisiana_Waterthrush'.\n",
            "There are 0 directories and 48 images in './train/190.Red_cockaded_Woodpecker'.\n",
            "There are 0 directories and 50 images in './train/188.Pileated_Woodpecker'.\n",
            "There are 0 directories and 49 images in './train/181.Worm_eating_Warbler'.\n",
            "There are 0 directories and 50 images in './train/172.Nashville_Warbler'.\n",
            "There are 0 directories and 50 images in './train/173.Orange_crowned_Warbler'.\n",
            "There are 0 directories and 50 images in './train/176.Prairie_Warbler'.\n",
            "There are 0 directories and 46 images in './train/178.Swainson_Warbler'.\n",
            "There are 0 directories and 49 images in './train/179.Tennessee_Warbler'.\n",
            "There are 0 directories and 50 images in './train/174.Palm_Warbler'.\n",
            "There are 0 directories and 50 images in './train/177.Prothonotary_Warbler'.\n",
            "There are 0 directories and 50 images in './train/175.Pine_Warbler'.\n",
            "There are 0 directories and 50 images in './train/180.Wilson_Warbler'.\n",
            "There are 0 directories and 50 images in './train/171.Myrtle_Warbler'.\n",
            "There are 0 directories and 50 images in './train/162.Canada_Warbler'.\n",
            "There are 0 directories and 49 images in './train/169.Magnolia_Warbler'.\n",
            "There are 0 directories and 49 images in './train/166.Golden_winged_Warbler'.\n",
            "There are 0 directories and 50 images in './train/163.Cape_May_Warbler'.\n",
            "There are 0 directories and 50 images in './train/167.Hooded_Warbler'.\n",
            "There are 0 directories and 50 images in './train/164.Cerulean_Warbler'.\n",
            "There are 0 directories and 50 images in './train/165.Chestnut_sided_Warbler'.\n",
            "There are 0 directories and 50 images in './train/170.Mourning_Warbler'.\n",
            "There are 0 directories and 49 images in './train/168.Kentucky_Warbler'.\n",
            "There are 0 directories and 50 images in './train/161.Blue_winged_Warbler'.\n",
            "There are 0 directories and 49 images in './train/160.Black_throated_Blue_Warbler'.\n",
            "There are 0 directories and 49 images in './train/157.Yellow_throated_Vireo'.\n",
            "There are 0 directories and 50 images in './train/159.Black_and_white_Warbler'.\n",
            "There are 0 directories and 41 images in './train/151.Black_capped_Vireo'.\n",
            "There are 0 directories and 50 images in './train/152.Blue_headed_Vireo'.\n",
            "There are 0 directories and 49 images in './train/153.Philadelphia_Vireo'.\n",
            "There are 0 directories and 50 images in './train/155.Warbling_Vireo'.\n",
            "There are 0 directories and 50 images in './train/154.Red_eyed_Vireo'.\n",
            "There are 0 directories and 50 images in './train/156.White_eyed_Vireo'.\n",
            "There are 0 directories and 50 images in './train/158.Bay_breasted_Warbler'.\n",
            "There are 0 directories and 50 images in './train/150.Sage_Thrasher'.\n",
            "There are 0 directories and 50 images in './train/147.Least_Tern'.\n",
            "There are 0 directories and 50 images in './train/148.Green_tailed_Towhee'.\n",
            "There are 0 directories and 50 images in './train/145.Elegant_Tern'.\n",
            "There are 0 directories and 50 images in './train/143.Caspian_Tern'.\n",
            "There are 0 directories and 50 images in './train/142.Black_Tern'.\n",
            "There are 0 directories and 50 images in './train/144.Common_Tern'.\n",
            "There are 0 directories and 49 images in './train/149.Brown_Thrasher'.\n",
            "There are 0 directories and 50 images in './train/146.Forsters_Tern'.\n",
            "There are 0 directories and 48 images in './train/141.Artic_Tern'.\n",
            "There are 0 directories and 50 images in './train/140.Summer_Tanager'.\n",
            "There are 0 directories and 50 images in './train/138.Tree_Swallow'.\n",
            "There are 0 directories and 50 images in './train/131.Vesper_Sparrow'.\n",
            "There are 0 directories and 49 images in './train/135.Bank_Swallow'.\n",
            "There are 0 directories and 50 images in './train/137.Cliff_Swallow'.\n",
            "There are 0 directories and 50 images in './train/133.White_throated_Sparrow'.\n",
            "There are 0 directories and 50 images in './train/134.Cape_Glossy_Starling'.\n",
            "There are 0 directories and 50 images in './train/132.White_crowned_Sparrow'.\n",
            "There are 0 directories and 50 images in './train/139.Scarlet_Tanager'.\n",
            "There are 0 directories and 50 images in './train/136.Barn_Swallow'.\n",
            "There are 0 directories and 50 images in './train/130.Tree_Sparrow'.\n",
            "There are 0 directories and 50 images in './train/120.Fox_Sparrow'.\n",
            "There are 0 directories and 49 images in './train/126.Nelson_Sharp_tailed_Sparrow'.\n",
            "There are 0 directories and 49 images in './train/125.Lincoln_Sparrow'.\n",
            "There are 0 directories and 50 images in './train/127.Savannah_Sparrow'.\n",
            "There are 0 directories and 50 images in './train/128.Seaside_Sparrow'.\n",
            "There are 0 directories and 49 images in './train/124.Le_Conte_Sparrow'.\n",
            "There are 0 directories and 50 images in './train/129.Song_Sparrow'.\n",
            "There are 0 directories and 50 images in './train/121.Grasshopper_Sparrow'.\n",
            "There are 0 directories and 50 images in './train/123.Henslow_Sparrow'.\n",
            "There are 0 directories and 50 images in './train/122.Harris_Sparrow'.\n",
            "There are 0 directories and 49 images in './train/119.Field_Sparrow'.\n",
            "There are 0 directories and 50 images in './train/118.House_Sparrow'.\n",
            "There are 0 directories and 49 images in './train/117.Clay_colored_Sparrow'.\n",
            "There are 0 directories and 50 images in './train/110.Geococcyx'.\n",
            "There are 0 directories and 50 images in './train/112.Great_Grey_Shrike'.\n",
            "There are 0 directories and 50 images in './train/114.Black_throated_Sparrow'.\n",
            "There are 0 directories and 50 images in './train/111.Loggerhead_Shrike'.\n",
            "There are 0 directories and 49 images in './train/115.Brewer_Sparrow'.\n",
            "There are 0 directories and 50 images in './train/109.American_Redstart'.\n",
            "There are 0 directories and 50 images in './train/116.Chipping_Sparrow'.\n",
            "There are 0 directories and 40 images in './train/113.Baird_Sparrow'.\n",
            "There are 0 directories and 50 images in './train/108.White_necked_Raven'.\n",
            "There are 0 directories and 49 images in './train/107.Common_Raven'.\n",
            "There are 0 directories and 50 images in './train/106.Horned_Puffin'.\n",
            "There are 0 directories and 50 images in './train/096.Hooded_Oriole'.\n",
            "There are 0 directories and 40 images in './train/101.White_Pelican'.\n",
            "There are 0 directories and 50 images in './train/102.Western_Wood_Pewee'.\n",
            "There are 0 directories and 49 images in './train/097.Orchard_Oriole'.\n",
            "There are 0 directories and 50 images in './train/100.Brown_Pelican'.\n",
            "There are 0 directories and 39 images in './train/105.Whip_poor_Will'.\n",
            "There are 0 directories and 50 images in './train/104.American_Pipit'.\n",
            "There are 0 directories and 50 images in './train/099.Ovenbird'.\n",
            "There are 0 directories and 50 images in './train/103.Sayornis'.\n",
            "There are 0 directories and 50 images in './train/098.Scott_Oriole'.\n",
            "There are 0 directories and 50 images in './train/095.Baltimore_Oriole'.\n",
            "There are 0 directories and 50 images in './train/094.White_breasted_Nuthatch'.\n",
            "There are 0 directories and 50 images in './train/093.Clark_Nutcracker'.\n",
            "There are 0 directories and 50 images in './train/085.Horned_Lark'.\n",
            "There are 0 directories and 50 images in './train/092.Nighthawk'.\n",
            "There are 0 directories and 50 images in './train/088.Western_Meadowlark'.\n",
            "There are 0 directories and 50 images in './train/091.Mockingbird'.\n",
            "There are 0 directories and 50 images in './train/086.Pacific_Loon'.\n",
            "There are 0 directories and 50 images in './train/090.Red_breasted_Merganser'.\n",
            "There are 0 directories and 50 images in './train/087.Mallard'.\n",
            "There are 0 directories and 50 images in './train/089.Hooded_Merganser'.\n",
            "There are 0 directories and 43 images in './train/084.Red_legged_Kittiwake'.\n",
            "There are 0 directories and 47 images in './train/075.Green_Jay'.\n",
            "There are 0 directories and 50 images in './train/083.White_breasted_Kingfisher'.\n",
            "There are 0 directories and 49 images in './train/078.Gray_Kingbird'.\n",
            "There are 0 directories and 50 images in './train/079.Belted_Kingfisher'.\n",
            "There are 0 directories and 50 images in './train/076.Dark_eyed_Junco'.\n",
            "There are 0 directories and 50 images in './train/077.Tropical_Kingbird'.\n",
            "There are 0 directories and 50 images in './train/081.Pied_Kingfisher'.\n",
            "There are 0 directories and 50 images in './train/082.Ringed_Kingfisher'.\n",
            "There are 0 directories and 50 images in './train/080.Green_Kingfisher'.\n",
            "There are 0 directories and 50 images in './train/074.Florida_Jay'.\n",
            "There are 0 directories and 50 images in './train/069.Rufous_Hummingbird'.\n",
            "There are 0 directories and 50 images in './train/068.Ruby_throated_Hummingbird'.\n",
            "There are 0 directories and 50 images in './train/066.Western_Gull'.\n",
            "There are 0 directories and 50 images in './train/072.Pomarine_Jaeger'.\n",
            "There are 0 directories and 50 images in './train/071.Long_tailed_Jaeger'.\n",
            "There are 0 directories and 50 images in './train/073.Blue_Jay'.\n",
            "There are 0 directories and 40 images in './train/065.Slaty_backed_Gull'.\n",
            "There are 0 directories and 50 images in './train/067.Anna_Hummingbird'.\n",
            "There are 0 directories and 50 images in './train/070.Green_Violetear'.\n",
            "There are 0 directories and 50 images in './train/064.Ring_billed_Gull'.\n",
            "There are 0 directories and 50 images in './train/057.Rose_breasted_Grosbeak'.\n",
            "There are 0 directories and 49 images in './train/060.Glaucous_winged_Gull'.\n",
            "There are 0 directories and 50 images in './train/056.Pine_Grosbeak'.\n",
            "There are 0 directories and 50 images in './train/061.Heermann_Gull'.\n",
            "There are 0 directories and 50 images in './train/063.Ivory_Gull'.\n",
            "There are 0 directories and 50 images in './train/059.California_Gull'.\n",
            "There are 0 directories and 48 images in './train/058.Pigeon_Guillemot'.\n",
            "There are 0 directories and 50 images in './train/055.Evening_Grosbeak'.\n",
            "There are 0 directories and 50 images in './train/062.Herring_Gull'.\n",
            "There are 0 directories and 50 images in './train/054.Blue_Grosbeak'.\n",
            "There are 0 directories and 50 images in './train/053.Western_Grebe'.\n",
            "There are 0 directories and 50 images in './train/048.European_Goldfinch'.\n",
            "There are 0 directories and 50 images in './train/051.Horned_Grebe'.\n",
            "There are 0 directories and 50 images in './train/050.Eared_Grebe'.\n",
            "There are 0 directories and 50 images in './train/047.American_Goldfinch'.\n",
            "There are 0 directories and 50 images in './train/044.Frigatebird'.\n",
            "There are 0 directories and 50 images in './train/045.Northern_Fulmar'.\n",
            "There are 0 directories and 50 images in './train/052.Pied_billed_Grebe'.\n",
            "There are 0 directories and 50 images in './train/049.Boat_tailed_Grackle'.\n",
            "There are 0 directories and 50 images in './train/046.Gadwall'.\n",
            "There are 0 directories and 49 images in './train/043.Yellow_bellied_Flycatcher'.\n",
            "There are 0 directories and 50 images in './train/042.Vermilion_Flycatcher'.\n",
            "There are 0 directories and 50 images in './train/035.Purple_Finch'.\n",
            "There are 0 directories and 50 images in './train/040.Olive_sided_Flycatcher'.\n",
            "There are 0 directories and 49 images in './train/037.Acadian_Flycatcher'.\n",
            "There are 0 directories and 50 images in './train/038.Great_Crested_Flycatcher'.\n",
            "There are 0 directories and 49 images in './train/033.Yellow_billed_Cuckoo'.\n",
            "There are 0 directories and 50 images in './train/036.Northern_Flicker'.\n",
            "There are 0 directories and 49 images in './train/039.Least_Flycatcher'.\n",
            "There are 0 directories and 50 images in './train/041.Scissor_tailed_Flycatcher'.\n",
            "There are 0 directories and 49 images in './train/034.Gray_crowned_Rosy_Finch'.\n",
            "There are 0 directories and 43 images in './train/032.Mangrove_Cuckoo'.\n",
            "There are 0 directories and 50 images in './train/025.Pelagic_Cormorant'.\n",
            "There are 0 directories and 50 images in './train/031.Black_billed_Cuckoo'.\n",
            "There are 0 directories and 50 images in './train/030.Fish_Crow'.\n",
            "There are 0 directories and 49 images in './train/023.Brandt_Cormorant'.\n",
            "There are 0 directories and 50 images in './train/027.Shiny_Cowbird'.\n",
            "There are 0 directories and 50 images in './train/029.American_Crow'.\n",
            "There are 0 directories and 50 images in './train/026.Bronzed_Cowbird'.\n",
            "There are 0 directories and 42 images in './train/024.Red_faced_Cormorant'.\n",
            "There are 0 directories and 49 images in './train/028.Brown_Creeper'.\n",
            "There are 0 directories and 46 images in './train/022.Chuck_will_Widow'.\n",
            "There are 0 directories and 50 images in './train/021.Eastern_Towhee'.\n",
            "There are 0 directories and 49 images in './train/020.Yellow_breasted_Chat'.\n",
            "There are 0 directories and 47 images in './train/017.Cardinal'.\n",
            "There are 0 directories and 48 images in './train/015.Lazuli_Bunting'.\n",
            "There are 0 directories and 50 images in './train/014.Indigo_Bunting'.\n",
            "There are 0 directories and 50 images in './train/011.Rusty_Blackbird'.\n",
            "There are 0 directories and 50 images in './train/013.Bobolink'.\n",
            "There are 0 directories and 49 images in './train/019.Gray_Catbird'.\n",
            "There are 0 directories and 48 images in './train/016.Painted_Bunting'.\n",
            "There are 0 directories and 35 images in './train/018.Spotted_Catbird'.\n",
            "There are 0 directories and 46 images in './train/012.Yellow_headed_Blackbird'.\n",
            "There are 0 directories and 50 images in './train/010.Red_winged_Blackbird'.\n",
            "There are 0 directories and 49 images in './train/009.Brewer_Blackbird'.\n",
            "There are 0 directories and 38 images in './train/008.Rhinoceros_Auklet'.\n",
            "There are 0 directories and 50 images in './train/002.Laysan_Albatross'.\n",
            "There are 0 directories and 50 images in './train/001.Black_footed_Albatross'.\n",
            "There are 0 directories and 48 images in './train/003.Sooty_Albatross'.\n",
            "There are 0 directories and 34 images in './train/005.Crested_Auklet'.\n",
            "There are 0 directories and 50 images in './train/004.Groove_billed_Ani'.\n",
            "There are 0 directories and 31 images in './train/006.Least_Auklet'.\n",
            "There are 0 directories and 43 images in './train/007.Parakeet_Auklet'.\n",
            "There are 0 directories and 2000 images in './test'.\n"
          ]
        }
      ],
      "source": [
        "# Walk through each directory\n",
        "traindataset = \"./train\"\n",
        "testdataset = \"./test\"\n",
        "walk_through_dir(traindataset);\n",
        "walk_through_dir(testdataset);\n"
      ]
    },
    {
      "cell_type": "code",
      "execution_count": 15,
      "metadata": {
        "id": "RT0z9BsUqqAU"
      },
      "outputs": [],
      "source": [
        "image_dir = Path(traindataset)\n",
        "\n",
        "# Get filepaths and labels\n",
        "filepaths = list(image_dir.glob(r'**/*.JPG')) + list(image_dir.glob(r'**/*.jpg')) + list(image_dir.glob(r'**/*.png')) + list(image_dir.glob(r'**/*.png'))\n",
        "\n",
        "labels = list(map(lambda x: os.path.split(os.path.split(x)[0])[1], filepaths))\n",
        "\n",
        "filepaths = pd.Series(filepaths, name='Filepath').astype(str)\n",
        "labels = pd.Series(labels, name='Label')\n",
        "\n",
        "# Concatenate filepaths and labels\n",
        "image_df = pd.concat([filepaths, labels], axis=1)"
      ]
    },
    {
      "cell_type": "code",
      "execution_count": 16,
      "metadata": {
        "id": "06sE6jK3qvMB"
      },
      "outputs": [],
      "source": [
        "# Separate in train and test data\n",
        "train_df, test_df = train_test_split(image_df, test_size=0.2, shuffle=True, random_state=42)\n",
        "train_generator = ImageDataGenerator(\n",
        "    preprocessing_function=tf.keras.applications.efficientnet.preprocess_input\n",
        ")\n",
        "\n",
        "test_generator = ImageDataGenerator(\n",
        "    preprocessing_function=tf.keras.applications.efficientnet.preprocess_input,\n",
        ")"
      ]
    },
    {
      "cell_type": "code",
      "execution_count": 19,
      "metadata": {
        "colab": {
          "base_uri": "https://localhost:8080/"
        },
        "id": "w8bzQaHoq1q4",
        "outputId": "1722bd55-8b57-472c-abcf-8141c690b09e"
      },
      "outputs": [
        {
          "name": "stdout",
          "output_type": "stream",
          "text": [
            "Found 7830 validated image filenames belonging to 200 classes.\n",
            "Found 1958 validated image filenames belonging to 200 classes.\n"
          ]
        }
      ],
      "source": [
        "# Split the data into three categories.\n",
        "train_images = train_generator.flow_from_dataframe(\n",
        "    dataframe=train_df,\n",
        "    x_col='Filepath',\n",
        "    y_col='Label',\n",
        "    target_size=TARGET_SIZE,\n",
        "    color_mode='rgb',\n",
        "    class_mode='categorical',\n",
        "    batch_size=BATCH_SIZE,\n",
        "    shuffle=True,\n",
        "    seed=42,\n",
        "    subset='training'\n",
        ")\n",
        "'''\n",
        "val_images = train_generator.flow_from_dataframe(\n",
        "    dataframe=train_df,\n",
        "    x_col='Filepath',\n",
        "    y_col='Label',\n",
        "    target_size=TARGET_SIZE,\n",
        "    color_mode='rgb',\n",
        "    class_mode='categorical',\n",
        "    batch_size=BATCH_SIZE,\n",
        "    shuffle=True,\n",
        "    seed=42,\n",
        "    subset='validation'\n",
        ")\n",
        "'''\n",
        "test_images = test_generator.flow_from_dataframe(\n",
        "    dataframe=test_df,\n",
        "    x_col='Filepath',\n",
        "    y_col='Label',\n",
        "    target_size=TARGET_SIZE,\n",
        "    color_mode='rgb',\n",
        "    class_mode='categorical',\n",
        "    batch_size=BATCH_SIZE,\n",
        "    shuffle=False\n",
        ")"
      ]
    },
    {
      "cell_type": "code",
      "execution_count": 20,
      "metadata": {
        "id": "IigD-iaoq7l6"
      },
      "outputs": [],
      "source": [
        "augment = tf.keras.Sequential([\n",
        "  layers.experimental.preprocessing.Resizing(224, 224),\n",
        "  layers.experimental.preprocessing.Rescaling(1./255),\n",
        "  layers.experimental.preprocessing.RandomFlip(\"horizontal\"),\n",
        "  layers.experimental.preprocessing.RandomRotation(0.2),\n",
        "  layers.experimental.preprocessing.RandomZoom(0.2),\n",
        "  layers.experimental.preprocessing.RandomContrast(0.2),\n",
        "  layers.experimental.preprocessing.RandomTranslation(0.2, 0.2),\n",
        "  layers.experimental.preprocessing.RandomCrop(224, 224)\n",
        "])"
      ]
    },
    {
      "cell_type": "code",
      "execution_count": 21,
      "metadata": {
        "colab": {
          "base_uri": "https://localhost:8080/"
        },
        "id": "iqchi8wtrCD3",
        "outputId": "9504b500-2a4d-4b33-9101-dbeeda59dcbc"
      },
      "outputs": [
        {
          "name": "stdout",
          "output_type": "stream",
          "text": [
            "Downloading data from https://storage.googleapis.com/keras-applications/efficientnetb0_notop.h5\n",
            "16705208/16705208 [==============================] - 1s 0us/step\n"
          ]
        }
      ],
      "source": [
        "# Load the pretained model\n",
        "pretrained_model = tf.keras.applications.efficientnet.EfficientNetB0(\n",
        "    input_shape=(224, 224, 3),\n",
        "    include_top=False,\n",
        "    weights='imagenet',\n",
        "    pooling='max'\n",
        ")\n",
        "\n",
        "pretrained_model.trainable = True"
      ]
    },
    {
      "cell_type": "code",
      "execution_count": 22,
      "metadata": {
        "id": "1OHNOVNIrDsc"
      },
      "outputs": [],
      "source": [
        "early_stopping = EarlyStopping(monitor='val_loss', patience=10, restore_best_weights=True)\n",
        "checkpoint_callback = ModelCheckpoint('model_checkpoint.h5', monitor='val_accuracy', save_best_only=True)\n",
        "reduce_lr = ReduceLROnPlateau(monitor='val_loss', factor=0.5, patience=2, min_lr=1e-6)"
      ]
    },
    {
      "cell_type": "code",
      "execution_count": 23,
      "metadata": {
        "colab": {
          "base_uri": "https://localhost:8080/"
        },
        "id": "qZ8Gk4bTrSoI",
        "outputId": "2a1677f1-1151-4cf3-a23b-00a912440608"
      },
      "outputs": [
        {
          "name": "stderr",
          "output_type": "stream",
          "text": [
            "WARNING:absl:`lr` is deprecated in Keras optimizer, please use `learning_rate` or use the legacy optimizer, e.g.,tf.keras.optimizers.legacy.Adam.\n"
          ]
        },
        {
          "name": "stdout",
          "output_type": "stream",
          "text": [
            "Saving TensorBoard log files to: training_logs/bird_classification/20240105-025623\n",
            "Epoch 1/70\n",
            "245/245 [==============================] - ETA: 0s - loss: 5.7179 - accuracy: 0.2327 "
          ]
        },
        {
          "name": "stderr",
          "output_type": "stream",
          "text": [
            "/usr/local/lib/python3.10/dist-packages/keras/src/engine/training.py:3103: UserWarning: You are saving your model as an HDF5 file via `model.save()`. This file format is considered legacy. We recommend using instead the native Keras format, e.g. `model.save('my_model.keras')`.\n",
            "  saving_api.save_model(\n"
          ]
        },
        {
          "name": "stdout",
          "output_type": "stream",
          "text": [
            "\b\b\b\b\b\b\b\b\b\b\b\b\b\b\b\b\b\b\b\b\b\b\b\b\b\b\b\b\b\b\b\b\b\b\b\b\b\b\b\b\b\b\b\b\b\b\b\b\b\b\b\b\b\b\b\b\b\b\b\b\b\b\b\b\b\b\b\b\b\b\b\b\b\b\b\b\b\b\b\b\b\b\b\b\r245/245 [==============================] - 3455s 14s/step - loss: 5.7179 - accuracy: 0.2327 - val_loss: 3.3497 - val_accuracy: 0.4699 - lr: 0.0010\n",
            "Epoch 2/70\n",
            "245/245 [==============================] - 41s 167ms/step - loss: 3.1099 - accuracy: 0.4622 - val_loss: 2.7290 - val_accuracy: 0.5419 - lr: 0.0010\n",
            "Epoch 3/70\n",
            "245/245 [==============================] - 38s 154ms/step - loss: 2.7510 - accuracy: 0.5238 - val_loss: 2.5465 - val_accuracy: 0.5587 - lr: 0.0010\n",
            "Epoch 4/70\n",
            "245/245 [==============================] - 38s 155ms/step - loss: 2.5629 - accuracy: 0.5566 - val_loss: 2.4629 - val_accuracy: 0.5873 - lr: 0.0010\n",
            "Epoch 5/70\n",
            "245/245 [==============================] - 36s 147ms/step - loss: 2.4526 - accuracy: 0.5838 - val_loss: 2.3409 - val_accuracy: 0.5827 - lr: 0.0010\n",
            "Epoch 6/70\n",
            "245/245 [==============================] - 38s 155ms/step - loss: 2.3518 - accuracy: 0.5978 - val_loss: 2.2608 - val_accuracy: 0.6185 - lr: 0.0010\n",
            "Epoch 7/70\n",
            "245/245 [==============================] - 39s 160ms/step - loss: 2.2955 - accuracy: 0.5966 - val_loss: 2.1917 - val_accuracy: 0.6256 - lr: 0.0010\n",
            "Epoch 8/70\n",
            "245/245 [==============================] - 41s 167ms/step - loss: 2.2316 - accuracy: 0.6073 - val_loss: 2.1400 - val_accuracy: 0.6313 - lr: 0.0010\n",
            "Epoch 9/70\n",
            "245/245 [==============================] - 37s 150ms/step - loss: 2.1758 - accuracy: 0.6252 - val_loss: 2.1614 - val_accuracy: 0.6323 - lr: 0.0010\n",
            "Epoch 10/70\n",
            "245/245 [==============================] - 37s 152ms/step - loss: 2.1455 - accuracy: 0.6262 - val_loss: 2.1475 - val_accuracy: 0.6307 - lr: 0.0010\n",
            "Epoch 11/70\n",
            "245/245 [==============================] - 38s 156ms/step - loss: 1.8547 - accuracy: 0.6958 - val_loss: 1.8133 - val_accuracy: 0.6936 - lr: 5.0000e-04\n",
            "Epoch 12/70\n",
            "245/245 [==============================] - 36s 148ms/step - loss: 1.7588 - accuracy: 0.7028 - val_loss: 1.7893 - val_accuracy: 0.6823 - lr: 5.0000e-04\n",
            "Epoch 13/70\n",
            "245/245 [==============================] - 39s 160ms/step - loss: 1.7318 - accuracy: 0.7038 - val_loss: 1.7836 - val_accuracy: 0.6757 - lr: 5.0000e-04\n",
            "Epoch 14/70\n",
            "245/245 [==============================] - 36s 146ms/step - loss: 1.7044 - accuracy: 0.7111 - val_loss: 1.7743 - val_accuracy: 0.6885 - lr: 5.0000e-04\n",
            "Epoch 15/70\n",
            "245/245 [==============================] - 37s 152ms/step - loss: 1.6846 - accuracy: 0.7163 - val_loss: 1.7759 - val_accuracy: 0.6782 - lr: 5.0000e-04\n",
            "Epoch 16/70\n",
            "245/245 [==============================] - 36s 148ms/step - loss: 1.6659 - accuracy: 0.7161 - val_loss: 1.7188 - val_accuracy: 0.6915 - lr: 5.0000e-04\n",
            "Epoch 17/70\n",
            "245/245 [==============================] - 36s 148ms/step - loss: 1.6643 - accuracy: 0.7083 - val_loss: 1.7629 - val_accuracy: 0.6691 - lr: 5.0000e-04\n",
            "Epoch 18/70\n",
            "245/245 [==============================] - 36s 145ms/step - loss: 1.6327 - accuracy: 0.7174 - val_loss: 1.7520 - val_accuracy: 0.6772 - lr: 5.0000e-04\n",
            "Epoch 19/70\n",
            "245/245 [==============================] - 42s 173ms/step - loss: 1.5089 - accuracy: 0.7603 - val_loss: 1.6096 - val_accuracy: 0.7130 - lr: 2.5000e-04\n",
            "Epoch 20/70\n",
            "245/245 [==============================] - 40s 165ms/step - loss: 1.4616 - accuracy: 0.7673 - val_loss: 1.5657 - val_accuracy: 0.7191 - lr: 2.5000e-04\n",
            "Epoch 21/70\n",
            "245/245 [==============================] - 38s 153ms/step - loss: 1.4375 - accuracy: 0.7622 - val_loss: 1.5473 - val_accuracy: 0.7206 - lr: 2.5000e-04\n",
            "Epoch 22/70\n",
            "245/245 [==============================] - 39s 158ms/step - loss: 1.4292 - accuracy: 0.7632 - val_loss: 1.5507 - val_accuracy: 0.7206 - lr: 2.5000e-04\n",
            "Epoch 23/70\n",
            "245/245 [==============================] - 38s 156ms/step - loss: 1.4141 - accuracy: 0.7688 - val_loss: 1.5584 - val_accuracy: 0.7140 - lr: 2.5000e-04\n",
            "Epoch 24/70\n",
            "245/245 [==============================] - 36s 148ms/step - loss: 1.3475 - accuracy: 0.7950 - val_loss: 1.4972 - val_accuracy: 0.7308 - lr: 1.2500e-04\n",
            "Epoch 25/70\n",
            "245/245 [==============================] - 38s 155ms/step - loss: 1.3254 - accuracy: 0.7948 - val_loss: 1.4831 - val_accuracy: 0.7314 - lr: 1.2500e-04\n",
            "Epoch 26/70\n",
            "245/245 [==============================] - 36s 148ms/step - loss: 1.3209 - accuracy: 0.8019 - val_loss: 1.4742 - val_accuracy: 0.7314 - lr: 1.2500e-04\n",
            "Epoch 27/70\n",
            "245/245 [==============================] - 39s 157ms/step - loss: 1.3088 - accuracy: 0.7976 - val_loss: 1.4654 - val_accuracy: 0.7329 - lr: 1.2500e-04\n",
            "Epoch 28/70\n",
            "245/245 [==============================] - 36s 149ms/step - loss: 1.2964 - accuracy: 0.7980 - val_loss: 1.4619 - val_accuracy: 0.7416 - lr: 1.2500e-04\n",
            "Epoch 29/70\n",
            "245/245 [==============================] - 38s 154ms/step - loss: 1.2934 - accuracy: 0.7995 - val_loss: 1.4629 - val_accuracy: 0.7421 - lr: 1.2500e-04\n",
            "Epoch 30/70\n",
            "245/245 [==============================] - 37s 152ms/step - loss: 1.2880 - accuracy: 0.8000 - val_loss: 1.4573 - val_accuracy: 0.7365 - lr: 1.2500e-04\n",
            "Epoch 31/70\n",
            "245/245 [==============================] - 37s 153ms/step - loss: 1.2880 - accuracy: 0.7986 - val_loss: 1.4518 - val_accuracy: 0.7339 - lr: 1.2500e-04\n",
            "Epoch 32/70\n",
            "245/245 [==============================] - 37s 149ms/step - loss: 1.2904 - accuracy: 0.7945 - val_loss: 1.4587 - val_accuracy: 0.7303 - lr: 1.2500e-04\n",
            "Epoch 33/70\n",
            "245/245 [==============================] - 40s 164ms/step - loss: 1.2865 - accuracy: 0.7974 - val_loss: 1.4515 - val_accuracy: 0.7237 - lr: 1.2500e-04\n",
            "Epoch 34/70\n",
            "245/245 [==============================] - 36s 147ms/step - loss: 1.2694 - accuracy: 0.8066 - val_loss: 1.4565 - val_accuracy: 0.7252 - lr: 1.2500e-04\n",
            "Epoch 35/70\n",
            "245/245 [==============================] - 38s 153ms/step - loss: 1.2769 - accuracy: 0.7980 - val_loss: 1.4546 - val_accuracy: 0.7314 - lr: 1.2500e-04\n",
            "Epoch 36/70\n",
            "245/245 [==============================] - 36s 147ms/step - loss: 1.2382 - accuracy: 0.8140 - val_loss: 1.4293 - val_accuracy: 0.7349 - lr: 6.2500e-05\n",
            "Epoch 37/70\n",
            "245/245 [==============================] - 40s 163ms/step - loss: 1.2348 - accuracy: 0.8116 - val_loss: 1.4186 - val_accuracy: 0.7360 - lr: 6.2500e-05\n",
            "Epoch 38/70\n",
            "245/245 [==============================] - 36s 149ms/step - loss: 1.2188 - accuracy: 0.8193 - val_loss: 1.4185 - val_accuracy: 0.7416 - lr: 6.2500e-05\n",
            "Epoch 39/70\n",
            "245/245 [==============================] - 40s 164ms/step - loss: 1.2256 - accuracy: 0.8155 - val_loss: 1.4101 - val_accuracy: 0.7426 - lr: 6.2500e-05\n",
            "Epoch 40/70\n",
            "245/245 [==============================] - 36s 148ms/step - loss: 1.2167 - accuracy: 0.8158 - val_loss: 1.4117 - val_accuracy: 0.7400 - lr: 6.2500e-05\n",
            "Epoch 41/70\n",
            "245/245 [==============================] - 36s 146ms/step - loss: 1.2165 - accuracy: 0.8190 - val_loss: 1.4113 - val_accuracy: 0.7400 - lr: 6.2500e-05\n",
            "Epoch 42/70\n",
            "245/245 [==============================] - 36s 146ms/step - loss: 1.1948 - accuracy: 0.8215 - val_loss: 1.4011 - val_accuracy: 0.7406 - lr: 3.1250e-05\n",
            "Epoch 43/70\n",
            "245/245 [==============================] - 42s 172ms/step - loss: 1.1976 - accuracy: 0.8229 - val_loss: 1.4000 - val_accuracy: 0.7446 - lr: 3.1250e-05\n",
            "Epoch 44/70\n",
            "245/245 [==============================] - 36s 146ms/step - loss: 1.1929 - accuracy: 0.8238 - val_loss: 1.3988 - val_accuracy: 0.7400 - lr: 3.1250e-05\n",
            "Epoch 45/70\n",
            "245/245 [==============================] - 37s 150ms/step - loss: 1.1885 - accuracy: 0.8296 - val_loss: 1.3942 - val_accuracy: 0.7431 - lr: 3.1250e-05\n",
            "Epoch 46/70\n",
            "245/245 [==============================] - 36s 147ms/step - loss: 1.1932 - accuracy: 0.8223 - val_loss: 1.3943 - val_accuracy: 0.7380 - lr: 3.1250e-05\n",
            "Epoch 47/70\n",
            "245/245 [==============================] - 40s 162ms/step - loss: 1.1793 - accuracy: 0.8248 - val_loss: 1.3913 - val_accuracy: 0.7406 - lr: 3.1250e-05\n",
            "Epoch 48/70\n",
            "245/245 [==============================] - 35s 145ms/step - loss: 1.1826 - accuracy: 0.8259 - val_loss: 1.3910 - val_accuracy: 0.7421 - lr: 3.1250e-05\n",
            "Epoch 49/70\n",
            "245/245 [==============================] - 35s 143ms/step - loss: 1.1784 - accuracy: 0.8324 - val_loss: 1.3941 - val_accuracy: 0.7431 - lr: 3.1250e-05\n",
            "Epoch 50/70\n",
            "245/245 [==============================] - 38s 154ms/step - loss: 1.1825 - accuracy: 0.8264 - val_loss: 1.3887 - val_accuracy: 0.7431 - lr: 3.1250e-05\n",
            "Epoch 51/70\n",
            "245/245 [==============================] - 38s 156ms/step - loss: 1.1794 - accuracy: 0.8289 - val_loss: 1.3882 - val_accuracy: 0.7441 - lr: 3.1250e-05\n",
            "Epoch 52/70\n",
            "245/245 [==============================] - 35s 143ms/step - loss: 1.1808 - accuracy: 0.8241 - val_loss: 1.3867 - val_accuracy: 0.7406 - lr: 3.1250e-05\n",
            "Epoch 53/70\n",
            "245/245 [==============================] - 40s 163ms/step - loss: 1.1750 - accuracy: 0.8284 - val_loss: 1.3866 - val_accuracy: 0.7411 - lr: 3.1250e-05\n",
            "Epoch 54/70\n",
            "245/245 [==============================] - 37s 150ms/step - loss: 1.1826 - accuracy: 0.8243 - val_loss: 1.3834 - val_accuracy: 0.7411 - lr: 3.1250e-05\n",
            "Epoch 55/70\n",
            "245/245 [==============================] - 37s 150ms/step - loss: 1.1838 - accuracy: 0.8261 - val_loss: 1.3846 - val_accuracy: 0.7411 - lr: 3.1250e-05\n",
            "Epoch 56/70\n",
            "245/245 [==============================] - 39s 158ms/step - loss: 1.1685 - accuracy: 0.8309 - val_loss: 1.3806 - val_accuracy: 0.7400 - lr: 3.1250e-05\n",
            "Epoch 57/70\n",
            "245/245 [==============================] - 40s 162ms/step - loss: 1.1741 - accuracy: 0.8249 - val_loss: 1.3822 - val_accuracy: 0.7406 - lr: 3.1250e-05\n",
            "Epoch 58/70\n",
            "245/245 [==============================] - 37s 150ms/step - loss: 1.1718 - accuracy: 0.8296 - val_loss: 1.3807 - val_accuracy: 0.7421 - lr: 3.1250e-05\n",
            "Epoch 59/70\n",
            "245/245 [==============================] - 37s 153ms/step - loss: 1.1681 - accuracy: 0.8312 - val_loss: 1.3783 - val_accuracy: 0.7431 - lr: 1.5625e-05\n",
            "Epoch 60/70\n",
            "245/245 [==============================] - 35s 144ms/step - loss: 1.1642 - accuracy: 0.8290 - val_loss: 1.3773 - val_accuracy: 0.7416 - lr: 1.5625e-05\n",
            "Epoch 61/70\n",
            "245/245 [==============================] - 36s 146ms/step - loss: 1.1657 - accuracy: 0.8301 - val_loss: 1.3764 - val_accuracy: 0.7411 - lr: 1.5625e-05\n",
            "Epoch 62/70\n",
            "245/245 [==============================] - 36s 146ms/step - loss: 1.1620 - accuracy: 0.8291 - val_loss: 1.3771 - val_accuracy: 0.7426 - lr: 1.5625e-05\n",
            "Epoch 63/70\n",
            "245/245 [==============================] - 37s 151ms/step - loss: 1.1562 - accuracy: 0.8313 - val_loss: 1.3774 - val_accuracy: 0.7446 - lr: 1.5625e-05\n",
            "Epoch 64/70\n",
            "245/245 [==============================] - 36s 147ms/step - loss: 1.1646 - accuracy: 0.8361 - val_loss: 1.3759 - val_accuracy: 0.7436 - lr: 7.8125e-06\n",
            "Epoch 65/70\n",
            "245/245 [==============================] - 36s 148ms/step - loss: 1.1539 - accuracy: 0.8352 - val_loss: 1.3760 - val_accuracy: 0.7426 - lr: 7.8125e-06\n",
            "Epoch 66/70\n",
            "245/245 [==============================] - 37s 151ms/step - loss: 1.1520 - accuracy: 0.8337 - val_loss: 1.3746 - val_accuracy: 0.7436 - lr: 7.8125e-06\n",
            "Epoch 67/70\n",
            "245/245 [==============================] - 37s 152ms/step - loss: 1.1536 - accuracy: 0.8328 - val_loss: 1.3743 - val_accuracy: 0.7406 - lr: 7.8125e-06\n",
            "Epoch 68/70\n",
            "245/245 [==============================] - 37s 149ms/step - loss: 1.1539 - accuracy: 0.8321 - val_loss: 1.3739 - val_accuracy: 0.7416 - lr: 7.8125e-06\n",
            "Epoch 69/70\n",
            "245/245 [==============================] - 36s 147ms/step - loss: 1.1518 - accuracy: 0.8390 - val_loss: 1.3748 - val_accuracy: 0.7441 - lr: 7.8125e-06\n",
            "Epoch 70/70\n",
            "245/245 [==============================] - 37s 149ms/step - loss: 1.1484 - accuracy: 0.8345 - val_loss: 1.3734 - val_accuracy: 0.7416 - lr: 7.8125e-06\n"
          ]
        }
      ],
      "source": [
        "x = pretrained_model.layers[-2].output\n",
        "x = Dropout(0.5)(x)\n",
        "x = Dense(512, activation='relu', kernel_regularizer=l2(0.01))(x)\n",
        "x = Dropout(0.5)(x)\n",
        "\n",
        "x = GlobalAveragePooling2D()(x)\n",
        "\n",
        "outputs = Dense(200, activation='softmax')(x)\n",
        "\n",
        "model = Model(inputs=pretrained_model.input, outputs=outputs)\n",
        "\n",
        "for layer in pretrained_model.layers:\n",
        "    layer.trainable = False\n",
        "\n",
        "model.compile(\n",
        "    optimizer=Adam(lr=0.00015),\n",
        "    loss='categorical_crossentropy',\n",
        "    metrics=['accuracy']\n",
        ")\n",
        "\n",
        "history = model.fit(\n",
        "    train_images,\n",
        "    steps_per_epoch=len(train_images),\n",
        "    validation_data=test_images,\n",
        "    validation_steps=len(test_images),\n",
        "    epochs=70,\n",
        "    callbacks=[\n",
        "        early_stopping,\n",
        "        create_tensorboard_callback(\"training_logs\", \"bird_classification\"),\n",
        "        checkpoint_callback,\n",
        "        reduce_lr\n",
        "    ]\n",
        ")\n"
      ]
    },
    {
      "cell_type": "code",
      "execution_count": 77,
      "metadata": {
        "colab": {
          "base_uri": "https://localhost:8080/",
          "height": 564
        },
        "id": "yXesz7FkIa9t",
        "outputId": "d3ae93e0-f2ec-4784-a041-939a6bcc0040"
      },
      "outputs": [
        {
          "data": {
            "image/png": "[encoded data removed]",
            "text/plain": [
              "<Figure size 1000x600 with 1 Axes>"
            ]
          },
          "metadata": {},
          "output_type": "display_data"
        }
      ],
      "source": [
        "train_acc = history.history['accuracy']\n",
        "val_acc = history.history['val_accuracy']\n",
        "\n",
        "# 获取epoch的数量\n",
        "epochs = range(1, len(train_acc) + 1)\n",
        "\n",
        "# 绘制学习曲线\n",
        "plt.figure(figsize=(10, 6))\n",
        "plt.plot(epochs, train_acc, 'b', label='Training accuracy')\n",
        "plt.plot(epochs, val_acc, 'r', label='Validation accuracy')\n",
        "plt.title('Training and Validation Accuracy')\n",
        "plt.xlabel('Epochs')\n",
        "plt.ylabel('Accuracy')\n",
        "plt.legend()\n",
        "plt.grid(True)\n",
        "plt.show()"
      ]
    },
    {
      "cell_type": "code",
      "execution_count": 79,
      "metadata": {
        "colab": {
          "base_uri": "https://localhost:8080/",
          "height": 607
        },
        "id": "aSMV9EVuJcGa",
        "outputId": "1b4597b9-e773-45f2-bec4-df6201dda16f"
      },
      "outputs": [
        {
          "data": {
            "image/png": "[encoded data removed]",
            "text/plain": [
              "<Figure size 1000x600 with 1 Axes>"
            ]
          },
          "metadata": {},
          "output_type": "display_data"
        }
      ],
      "source": [
        "train_loss = history.history['loss']\n",
        "val_loss = history.history['val_loss']\n",
        "\n",
        "# 获取epoch的数量\n",
        "epochs = range(1, len(train_loss) + 1)\n",
        "\n",
        "# 绘制学习曲线\n",
        "plt.figure(figsize=(10, 6))\n",
        "\n",
        "plt.subplot(1, 2, 2)\n",
        "plt.plot(epochs, train_loss, 'b', label='Training loss')\n",
        "plt.plot(epochs, val_loss, 'r', label='Validation loss')\n",
        "plt.title('Training and Validation Loss')\n",
        "plt.xlabel('Epochs')\n",
        "plt.ylabel('Loss')\n",
        "plt.legend()\n",
        "plt.grid(True)\n",
        "\n",
        "plt.tight_layout()\n",
        "plt.show()"
      ]
    },
    {
      "cell_type": "code",
      "execution_count": 38,
      "metadata": {
        "colab": {
          "base_uri": "https://localhost:8080/"
        },
        "id": "SM_VxZRtbioN",
        "outputId": "ce5dcc89-e8b6-4cc2-b58c-ba7561301ab8"
      },
      "outputs": [
        {
          "name": "stderr",
          "output_type": "stream",
          "text": [
            "/usr/local/lib/python3.10/dist-packages/keras/src/engine/training.py:3103: UserWarning: You are saving your model as an HDF5 file via `model.save()`. This file format is considered legacy. We recommend using instead the native Keras format, e.g. `model.save('my_model.keras')`.\n",
            "  saving_api.save_model(\n"
          ]
        }
      ],
      "source": [
        "model.save('efficient_B0.h5')"
      ]
    },
    {
      "cell_type": "code",
      "execution_count": 42,
      "metadata": {
        "id": "YKnbsyQAeaAX"
      },
      "outputs": [],
      "source": [
        "# Load the model\n",
        "loaded_model = load_model('efficient_B0.h5')"
      ]
    },
    {
      "cell_type": "code",
      "execution_count": 74,
      "metadata": {
        "id": "PiqzY1JgefDB"
      },
      "outputs": [],
      "source": [
        "all_layers = loaded_model.layers\n",
        "\n",
        "with open('109611092_weights.txt', 'w') as f:\n",
        "    for layer in all_layers:\n",
        "        f.write(f\"Layer Name: {layer.name}\\n\")\n",
        "        weights = layer.get_weights()\n",
        "        for w in weights:\n",
        "            if w.ndim == 0:\n",
        "                w_processed = np.array([w])\n",
        "            else:\n",
        "                w_processed = w.flatten()\n",
        "            np.savetxt(f, w_processed, delimiter=',', fmt='%.8f')\n",
        "        f.write(\"\\n\")"
      ]
    },
    {
      "cell_type": "code",
      "execution_count": 44,
      "metadata": {
        "colab": {
          "base_uri": "https://localhost:8080/"
        },
        "id": "oem3mqo9bXmf",
        "outputId": "c47d3f49-34c2-460b-b03e-10df2283267a"
      },
      "outputs": [
        {
          "name": "stdout",
          "output_type": "stream",
          "text": [
            "Found 2000 validated image filenames.\n"
          ]
        }
      ],
      "source": [
        "TARGET_SIZE = (224, 224)\n",
        "BATCH_SIZE = 32\n",
        "\n",
        "test_image_paths = list(Path(testdataset).glob(\"*\"))\n",
        "test_image_paths = [str(path) for path in test_image_paths]\n",
        "\n",
        "test_df = pd.DataFrame({\n",
        "    'Filepath': test_image_paths,\n",
        "})\n",
        "\n",
        "test_datagen = ImageDataGenerator(\n",
        "    preprocessing_function=tf.keras.applications.efficientnet.preprocess_input\n",
        ")\n",
        "\n",
        "test_images = test_datagen.flow_from_dataframe(\n",
        "    dataframe=test_df,\n",
        "    x_col='Filepath',\n",
        "    target_size=TARGET_SIZE,\n",
        "    color_mode='rgb',\n",
        "    class_mode=None,\n",
        "    batch_size=BATCH_SIZE,\n",
        "    shuffle=False\n",
        ")\n"
      ]
    },
    {
      "cell_type": "code",
      "execution_count": 45,
      "metadata": {
        "id": "1KLQeeJRkIw3"
      },
      "outputs": [],
      "source": [
        "train_folder_path = \"./train\"\n",
        "folder_names = os.listdir(train_folder_path)\n",
        "label_map = {folder_name: i for i, folder_name in enumerate(folder_names)}\n",
        "\n",
        "test_df['Class'] = test_df['Filepath'].apply(lambda x: os.path.basename(os.path.dirname(x)))\n",
        "test_df['Label'] = test_df['Class'].map(label_map)\n"
      ]
    },
    {
      "cell_type": "code",
      "execution_count": 82,
      "metadata": {
        "colab": {
          "base_uri": "https://localhost:8080/"
        },
        "id": "1mVVUJL6h2Og",
        "outputId": "5135620a-1e76-4617-e1ad-6754889a5662"
      },
      "outputs": [
        {
          "name": "stdout",
          "output_type": "stream",
          "text": [
            "63/63 [==============================] - 10s 164ms/step\n"
          ]
        }
      ],
      "source": [
        "folder_names = sorted(os.listdir(train_folder_path))\n",
        "label_map = {class_name: f\"{i:03d}.{class_name}\" for i, class_name in enumerate(folder_names)}\n",
        "\n",
        "# 假设 test_df 已经包含 'Filepath' 列\n",
        "test_df['Class'] = test_df['Filepath'].apply(lambda x: os.path.basename(os.path.dirname(x)))\n",
        "test_df['Label'] = test_df['Class'].map(label_map)\n",
        "\n",
        "# 进行预测\n",
        "predictions = loaded_model.predict(test_images)\n",
        "\n",
        "test_df['id'] = test_df['Filepath'].apply(lambda x: os.path.basename(x).replace('.jpg', ''))\n",
        "\n",
        "predictions_list = []\n",
        "for i, filename in enumerate(test_df['id']):\n",
        "    predicted_class_index = np.argmax(predictions[i])\n",
        "    predicted_class = None\n",
        "    for class_name, class_label in label_map.items():\n",
        "        if int(class_label[:3]) == predicted_class_index:\n",
        "            predicted_class = class_label[4:]\n",
        "            break\n",
        "    predictions_list.append([filename, predicted_class])\n",
        "\n",
        "result_df = pd.DataFrame(predictions_list, columns=['id', 'label'])\n",
        "\n",
        "result_df = result_df.sort_values(by='label')\n",
        "\n",
        "result_df.to_csv('predictions_sorted.csv', index=False)\n"
      ]
    },
    {
      "cell_type": "code",
      "execution_count": 75,
      "metadata": {
        "colab": {
          "base_uri": "https://localhost:8080/"
        },
        "id": "Igg2r_XdG6Oz",
        "outputId": "8097309f-ab6b-466c-e0c7-da201157e764"
      },
      "outputs": [
        {
          "name": "stdout",
          "output_type": "stream",
          "text": [
            "Fri Jan  5 05:33:17 2024       \n",
            "+---------------------------------------------------------------------------------------+\n",
            "| NVIDIA-SMI 535.104.05             Driver Version: 535.104.05   CUDA Version: 12.2     |\n",
            "|-----------------------------------------+----------------------+----------------------+\n",
            "| GPU  Name                 Persistence-M | Bus-Id        Disp.A | Volatile Uncorr. ECC |\n",
            "| Fan  Temp   Perf          Pwr:Usage/Cap |         Memory-Usage | GPU-Util  Compute M. |\n",
            "|                                         |                      |               MIG M. |\n",
            "|=========================================+======================+======================|\n",
            "|   0  Tesla T4                       Off | 00000000:00:04.0 Off |                    0 |\n",
            "| N/A   63C    P0              29W /  70W |   2173MiB / 15360MiB |      0%      Default |\n",
            "|                                         |                      |                  N/A |\n",
            "+-----------------------------------------+----------------------+----------------------+\n",
            "                                                                                         \n",
            "+---------------------------------------------------------------------------------------+\n",
            "| Processes:                                                                            |\n",
            "|  GPU   GI   CI        PID   Type   Process name                            GPU Memory |\n",
            "|        ID   ID                                                             Usage      |\n",
            "|=======================================================================================|\n",
            "+---------------------------------------------------------------------------------------+\n"
          ]
        }
      ],
      "source": [
        "!nvidia-smi"
      ]
    },
    {
      "cell_type": "code",
      "execution_count": 76,
      "metadata": {
        "colab": {
          "base_uri": "https://localhost:8080/"
        },
        "id": "3WBUv2CjHWmb",
        "outputId": "6d46fd20-ab57-409c-816c-f9fdf17e1443"
      },
      "outputs": [
        {
          "name": "stdout",
          "output_type": "stream",
          "text": [
            "3.10.12 (main, Nov 20 2023, 15:14:05) [GCC 11.4.0]\n"
          ]
        }
      ],
      "source": [
        "import sys\n",
        "print(sys.version)"
      ]
    }
  ],
  "metadata": {
    "accelerator": "GPU",
    "colab": {
      "gpuType": "T4",
      "provenance": []
    },
    "kernelspec": {
      "display_name": "Python 3",
      "name": "python3"
    },
    "language_info": {
      "name": "python"
    }
  },
  "nbformat": 4,
  "nbformat_minor": 0
}
